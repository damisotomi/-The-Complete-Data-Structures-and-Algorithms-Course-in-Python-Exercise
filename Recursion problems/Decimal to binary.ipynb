{
 "cells": [
  {
   "cell_type": "markdown",
   "id": "42d2b830",
   "metadata": {},
   "source": [
    "### Recursion occurs in three steps \n",
    "1. Write the recursive step\n",
    "2. Write the base step above the recursive step to prevent infinite loop \n",
    "3. write the assert code above the base step to prevent wrong input"
   ]
  },
  {
   "cell_type": "markdown",
   "id": "64b66abd",
   "metadata": {},
   "source": [
    "### QUESTION: CONVERT DECIMAL TO BINARY USING RECURSION"
   ]
  },
  {
   "cell_type": "code",
   "execution_count": 14,
   "id": "3fde956a",
   "metadata": {},
   "outputs": [],
   "source": [
    "def decimal_to_binary(number):\n",
    "    assert number == int(number), \"Enter postive whole number\"\n",
    "    if number==1:\n",
    "        return(str(1))\n",
    "    else:\n",
    "        return(decimal_to_binary(number//2)+str(number%2))"
   ]
  },
  {
   "cell_type": "code",
   "execution_count": 20,
   "id": "6188dae1",
   "metadata": {},
   "outputs": [
    {
     "data": {
      "text/plain": [
       "'1101'"
      ]
     },
     "execution_count": 20,
     "metadata": {},
     "output_type": "execute_result"
    }
   ],
   "source": [
    "decimal_to_binary(13)"
   ]
  },
  {
   "cell_type": "markdown",
   "id": "31102e92",
   "metadata": {},
   "source": [
    "##### EXPLANATION OF THE CODE ABOVE\n",
    "\n",
    "LINE 2 CHECK TO ENSURE ITS AN INTEGER ENTERED\n",
    "\n",
    "LINE 3 & 4 AVOIDS INFINITE LOOP\n",
    "\n",
    "LINE 6, THE RECURSIVE CALL. return exact division of the number by 2 and adds it to the str version of the remainder"
   ]
  },
  {
   "cell_type": "code",
   "execution_count": null,
   "id": "a1945afa",
   "metadata": {},
   "outputs": [],
   "source": []
  }
 ],
 "metadata": {
  "kernelspec": {
   "display_name": "Python 3 (ipykernel)",
   "language": "python",
   "name": "python3"
  },
  "language_info": {
   "codemirror_mode": {
    "name": "ipython",
    "version": 3
   },
   "file_extension": ".py",
   "mimetype": "text/x-python",
   "name": "python",
   "nbconvert_exporter": "python",
   "pygments_lexer": "ipython3",
   "version": "3.9.6"
  }
 },
 "nbformat": 4,
 "nbformat_minor": 5
}
