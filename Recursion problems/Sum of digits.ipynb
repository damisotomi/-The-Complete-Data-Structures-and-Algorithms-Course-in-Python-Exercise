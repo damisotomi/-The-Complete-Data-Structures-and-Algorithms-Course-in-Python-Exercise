{
 "cells": [
  {
   "cell_type": "markdown",
   "id": "42d2b830",
   "metadata": {},
   "source": [
    "### Recursion occurs in three steps \n",
    "1. Write the recursive step\n",
    "2. Write the base step above the recursive step to prevent infinite loop \n",
    "3. write the assert code above the base step to prevent wrong input"
   ]
  },
  {
   "cell_type": "markdown",
   "id": "85de2ba1",
   "metadata": {},
   "source": [
    "### 1. Sum of digits"
   ]
  },
  {
   "cell_type": "markdown",
   "id": "3dcdcb33",
   "metadata": {},
   "source": [
    "#### QUESTION\n",
    "FIND THE SUM OF THE DIGITS OF AN INTEGER"
   ]
  },
  {
   "cell_type": "code",
   "execution_count": 1,
   "id": "c0fde345",
   "metadata": {},
   "outputs": [],
   "source": [
    "def sum_of_digits(number):\n",
    "    \n",
    "    #checks to ensure an a positive whole number is entered\n",
    "    assert number == int(number) and number>=0, \"Enter an integer greater than 1\"\n",
    "    \n",
    "    #base case\n",
    "    if number//10==0:\n",
    "        return number\n",
    "    #recursive case\n",
    "    else:\n",
    "        return(number%10+sum_of_digits(number//10))"
   ]
  },
  {
   "cell_type": "code",
   "execution_count": 2,
   "id": "ddb2ae6b",
   "metadata": {},
   "outputs": [
    {
     "data": {
      "text/plain": [
       "14"
      ]
     },
     "execution_count": 2,
     "metadata": {},
     "output_type": "execute_result"
    }
   ],
   "source": [
    "sum_of_digits(2345)"
   ]
  },
  {
   "cell_type": "markdown",
   "id": "2ea57555",
   "metadata": {},
   "source": [
    "#### Explanation of code above\n",
    "2. line 3 just checks to know if the number entered is an interger. No decimal or negative allowed\n",
    "3. line 7 checks to know if we have gotten to the end of the recursion. Prevents infinite loop\n",
    "4. line 11 is the recursive step. It divides the original number by 10, keeps the remainder(the decimal part) and performs the recursion with the integer part of the division"
   ]
  }
 ],
 "metadata": {
  "kernelspec": {
   "display_name": "Python 3 (ipykernel)",
   "language": "python",
   "name": "python3"
  },
  "language_info": {
   "codemirror_mode": {
    "name": "ipython",
    "version": 3
   },
   "file_extension": ".py",
   "mimetype": "text/x-python",
   "name": "python",
   "nbconvert_exporter": "python",
   "pygments_lexer": "ipython3",
   "version": "3.9.6"
  }
 },
 "nbformat": 4,
 "nbformat_minor": 5
}
