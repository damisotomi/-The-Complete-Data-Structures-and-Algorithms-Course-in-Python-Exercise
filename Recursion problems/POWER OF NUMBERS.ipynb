{
 "cells": [
  {
   "cell_type": "markdown",
   "id": "42d2b830",
   "metadata": {},
   "source": [
    "### Recursion occurs in three steps \n",
    "1. Write the recursive step\n",
    "2. Write the base step above the recursive step to prevent infinite loop \n",
    "3. write the assert code above the base step to prevent wrong input"
   ]
  },
  {
   "cell_type": "markdown",
   "id": "89a100ba",
   "metadata": {},
   "source": [
    "## 2. Power of numbers"
   ]
  },
  {
   "cell_type": "markdown",
   "id": "e2296d7f",
   "metadata": {},
   "source": [
    "#### QUESTION: USE RECURSION TO FIND THE POWER OF POWER OF A NUMBER WITH A GIVEN EXPONENT"
   ]
  },
  {
   "cell_type": "code",
   "execution_count": 4,
   "id": "9b027587",
   "metadata": {},
   "outputs": [],
   "source": [
    "def power(base, exp):\n",
    "        #checks to ensure an a positive whole number is entered for both exp and base\n",
    "    assert base >=0 and base ==int(base), \"Enter an integer greater than 1 for the base\"\n",
    "    assert exp>=0 and exp==int(exp),\" Enter an integer greater than 1 for the exponent\"\n",
    "    \n",
    "    #base case\n",
    "    if exp==0:\n",
    "        return(1)\n",
    "    else:\n",
    "        #recursive case\n",
    "        return(base*power(base,exp-1))"
   ]
  },
  {
   "cell_type": "code",
   "execution_count": 5,
   "id": "9c30a5de",
   "metadata": {},
   "outputs": [
    {
     "data": {
      "text/plain": [
       "81"
      ]
     },
     "execution_count": 5,
     "metadata": {},
     "output_type": "execute_result"
    }
   ],
   "source": [
    "power(3,4)"
   ]
  },
  {
   "cell_type": "markdown",
   "id": "6e8701bc",
   "metadata": {},
   "source": [
    "### Explantion of the above code\n",
    "1. Line 3 and 4 just checks to see if the base and exp entered are positive integers\n",
    "2. Line 7 helps us to prevent infinite loop and ends the recursion when the exponent is o\n",
    "3. Line 11 is the recursive statement."
   ]
  },
  {
   "cell_type": "code",
   "execution_count": null,
   "id": "226a05ae",
   "metadata": {},
   "outputs": [],
   "source": []
  }
 ],
 "metadata": {
  "kernelspec": {
   "display_name": "Python 3 (ipykernel)",
   "language": "python",
   "name": "python3"
  },
  "language_info": {
   "codemirror_mode": {
    "name": "ipython",
    "version": 3
   },
   "file_extension": ".py",
   "mimetype": "text/x-python",
   "name": "python",
   "nbconvert_exporter": "python",
   "pygments_lexer": "ipython3",
   "version": "3.9.6"
  }
 },
 "nbformat": 4,
 "nbformat_minor": 5
}
