{
 "cells": [
  {
   "cell_type": "markdown",
   "id": "42d2b830",
   "metadata": {},
   "source": [
    "### Recursion occurs in three steps \n",
    "1. Write the recursive step\n",
    "2. Write the base step above the recursive step to prevent infinite loop \n",
    "3. write the assert code above the base step to prevent wrong input"
   ]
  },
  {
   "cell_type": "markdown",
   "id": "80093148",
   "metadata": {},
   "source": [
    "## 3 Greatest common divisor/Highest common factor"
   ]
  },
  {
   "cell_type": "markdown",
   "id": "58217a43",
   "metadata": {},
   "source": [
    "#### QUESTION: USE RECURSION TO FIND THE HIGHEST COMMON FACTOR OF TWO NUMBERS"
   ]
  },
  {
   "cell_type": "code",
   "execution_count": 1,
   "id": "5cfb11c0",
   "metadata": {},
   "outputs": [],
   "source": [
    "def hcf(num_1, num_2, div=2):\n",
    "    assert num_1 == int(num_1) and num_2 == int(num_2), \"ENTER INTERGERS ONLY\"\n",
    "    if num_1 < 0:\n",
    "        num_1 *= -1\n",
    "    if num_2 < 0:\n",
    "        num_2 *= -1\n",
    "    if div > 9:\n",
    "        return (1)\n",
    "\n",
    "    elif num_1 % div == 0 and num_2 % div == 0:\n",
    "        return (div * hcf(num_1 // div, num_2 // div, div))  # recursive case\n",
    "\n",
    "    elif num_1 % div != 0 or num_2 % div != 0:\n",
    "        div += 1\n",
    "        return (hcf(num_1, num_2, div))"
   ]
  },
  {
   "cell_type": "code",
   "execution_count": 2,
   "id": "ba194eaf",
   "metadata": {},
   "outputs": [
    {
     "data": {
      "text/plain": [
       "3"
      ]
     },
     "execution_count": 2,
     "metadata": {},
     "output_type": "execute_result"
    }
   ],
   "source": [
    "hcf(30,9)"
   ]
  },
  {
   "cell_type": "markdown",
   "id": "dd44440f",
   "metadata": {},
   "source": [
    "#### EXPLANATION TO THE CODE ABOVE\n",
    "\n",
    "Line 2 is the assert line to ensure we enter integers not decimals\n",
    "\n",
    "Line 3-6 checks to see if negative values are entered for either num_1 or num_2 and changes it to positive since hcf of 2 nugative numbers is its positive number\n",
    "\n",
    "Line 7 ensures we dont do an infinite loop(its our base case)\n",
    "\n",
    "Line 10-15 are or recursive cases."
   ]
  },
  {
   "cell_type": "markdown",
   "id": "f3d63353",
   "metadata": {},
   "source": [
    "#### CODE 2 -EUCLIDEAN ALGORITHM \n",
    "\n",
    "WE CAN SOLVE THE ABOVE PROBLEM USING EUCLIDEAN ALGORITHM AS WELL\n",
    "\n",
    "THIS ALGORTHIM WORKS THIS WAY.\n",
    "\n",
    "SAY WE HAVE TWO NUMBERS 48 AND 18 AND WE WANT TO FIND THE HCF OF THE NUMBERS\n",
    "\n",
    "48/18=2 REM 12\n",
    "\n",
    "18/12=1 REM 6\n",
    "\n",
    "12/6=2 REM 0\n",
    "\n",
    "ONCE WE HIT A ZERO FOR THE REMAINDER, THE HCF BECOMES NUMBER 2"
   ]
  },
  {
   "cell_type": "code",
   "execution_count": 3,
   "id": "6903a2c4",
   "metadata": {},
   "outputs": [],
   "source": [
    "def gcd(num_1, num_2):\n",
    "    assert num_1 == int(num_1) and num_2 == int(num_2), \"ENTER POSITIVE INTERGERS\"\n",
    "    if num_1 < 0:\n",
    "        num_1 *= -1\n",
    "    if num_2 < 0:\n",
    "        num_2 *= -1\n",
    "    if num_1 < num_2:\n",
    "        num_1, num_2 = num_2, num_1\n",
    "    if num_2 == 0:\n",
    "        return (num_1)\n",
    "    else:\n",
    "        rem = num_1 % num_2\n",
    "        if rem == 0:\n",
    "            return (num_2)\n",
    "        return (gcd(num_2, rem))\n",
    "\n",
    "    #     using euclidean algorithm\n",
    "#     the gcd of two negative numbers would be the gcd of the positive versions of then numbers\n"
   ]
  },
  {
   "cell_type": "code",
   "execution_count": 4,
   "id": "7970c5a2",
   "metadata": {},
   "outputs": [
    {
     "data": {
      "text/plain": [
       "25"
      ]
     },
     "execution_count": 4,
     "metadata": {},
     "output_type": "execute_result"
    }
   ],
   "source": [
    "gcd(0,25)"
   ]
  },
  {
   "cell_type": "code",
   "execution_count": null,
   "id": "6b46605d",
   "metadata": {},
   "outputs": [],
   "source": []
  }
 ],
 "metadata": {
  "kernelspec": {
   "display_name": "Python 3 (ipykernel)",
   "language": "python",
   "name": "python3"
  },
  "language_info": {
   "codemirror_mode": {
    "name": "ipython",
    "version": 3
   },
   "file_extension": ".py",
   "mimetype": "text/x-python",
   "name": "python",
   "nbconvert_exporter": "python",
   "pygments_lexer": "ipython3",
   "version": "3.9.6"
  }
 },
 "nbformat": 4,
 "nbformat_minor": 5
}
