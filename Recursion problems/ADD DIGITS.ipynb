{
 "cells": [
  {
   "cell_type": "markdown",
   "id": "42d2b830",
   "metadata": {},
   "source": [
    "### Recursion occurs in three steps \n",
    "1. Write the recursive step\n",
    "2. Write the base step above the recursive step to prevent infinite loop \n",
    "3. write the assert code above the base step to prevent wrong input"
   ]
  },
  {
   "cell_type": "markdown",
   "id": "4f2e8569",
   "metadata": {},
   "source": [
    "### ADD DIGITS\n",
    "THIS CODE ADDS THE DIGITS OF AN INTEGER UNTIL IT BECOMES A SINGLE DIGIT NOT GREATER  THAN 9"
   ]
  },
  {
   "cell_type": "code",
   "execution_count": 9,
   "id": "8b9071d0",
   "metadata": {},
   "outputs": [],
   "source": [
    "def add_digits(number):\n",
    "    assert number==int(number) and number >=0 ,\"Enter a positve integer(whole number)\"\n",
    "    if number==0:\n",
    "        return(0)\n",
    "    elif number%9==0:\n",
    "        return(9)\n",
    "    else:\n",
    "        return(number%9)"
   ]
  },
  {
   "cell_type": "code",
   "execution_count": 10,
   "id": "45d16b89",
   "metadata": {},
   "outputs": [
    {
     "data": {
      "text/plain": [
       "2"
      ]
     },
     "execution_count": 10,
     "metadata": {},
     "output_type": "execute_result"
    }
   ],
   "source": [
    "add_digits(23456)"
   ]
  },
  {
   "cell_type": "markdown",
   "id": "bf9a6164",
   "metadata": {},
   "source": [
    "#### EXPLANATION OF CODE\n",
    "THE 2nd line ensures that we enter a positive whole number\n",
    "Its kinda not a recursion problem because the question can be solved in one step(line 8)\n",
    "Dividing it by 9 automatically gives us the digit it would be when we keep adding up till we get a single digit."
   ]
  },
  {
   "cell_type": "code",
   "execution_count": null,
   "id": "4e9eea3a",
   "metadata": {},
   "outputs": [],
   "source": []
  }
 ],
 "metadata": {
  "kernelspec": {
   "display_name": "Python 3 (ipykernel)",
   "language": "python",
   "name": "python3"
  },
  "language_info": {
   "codemirror_mode": {
    "name": "ipython",
    "version": 3
   },
   "file_extension": ".py",
   "mimetype": "text/x-python",
   "name": "python",
   "nbconvert_exporter": "python",
   "pygments_lexer": "ipython3",
   "version": "3.9.6"
  }
 },
 "nbformat": 4,
 "nbformat_minor": 5
}
